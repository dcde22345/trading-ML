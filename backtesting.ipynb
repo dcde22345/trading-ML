{
 "cells": [
  {
   "cell_type": "code",
   "execution_count": 1,
   "metadata": {},
   "outputs": [],
   "source": [
    "import MetaTrader5 as mt5\n",
    "\n",
    "from src.strategies.MACD_SAR_EMA200 import test_MACD_SAR_EMA200"
   ]
  },
  {
   "cell_type": "code",
   "execution_count": 2,
   "metadata": {},
   "outputs": [],
   "source": [
    "timeframe = mt5.TIMEFRAME_M30\n",
    "start_time = \"2024-10-1\"\n",
    "end_time = \"2024-10-30\""
   ]
  },
  {
   "cell_type": "code",
   "execution_count": 3,
   "metadata": {},
   "outputs": [
    {
     "data": {
      "text/plain": [
       "True"
      ]
     },
     "execution_count": 3,
     "metadata": {},
     "output_type": "execute_result"
    }
   ],
   "source": [
    "mt5.initialize()\n",
    "symbols = mt5.symbols_get()\n",
    "mt5.shutdown()"
   ]
  },
  {
   "cell_type": "code",
   "execution_count": 4,
   "metadata": {},
   "outputs": [],
   "source": [
    "symbol_list = [symbol.name for symbol in symbols]"
   ]
  },
  {
   "cell_type": "code",
   "execution_count": null,
   "metadata": {},
   "outputs": [],
   "source": [
    "backtesting = test_MACD_SAR_EMA200(10000, 500)"
   ]
  },
  {
   "cell_type": "code",
   "execution_count": 7,
   "metadata": {},
   "outputs": [
    {
     "data": {
      "text/html": [
       "<div>\n",
       "<style scoped>\n",
       "    .dataframe tbody tr th:only-of-type {\n",
       "        vertical-align: middle;\n",
       "    }\n",
       "\n",
       "    .dataframe tbody tr th {\n",
       "        vertical-align: top;\n",
       "    }\n",
       "\n",
       "    .dataframe thead th {\n",
       "        text-align: right;\n",
       "    }\n",
       "</style>\n",
       "<table border=\"1\" class=\"dataframe\">\n",
       "  <thead>\n",
       "    <tr style=\"text-align: right;\">\n",
       "      <th></th>\n",
       "      <th>time</th>\n",
       "      <th>open</th>\n",
       "      <th>high</th>\n",
       "      <th>low</th>\n",
       "      <th>close</th>\n",
       "      <th>tick_volume</th>\n",
       "      <th>spread</th>\n",
       "      <th>real_volume</th>\n",
       "    </tr>\n",
       "  </thead>\n",
       "  <tbody>\n",
       "    <tr>\n",
       "      <th>0</th>\n",
       "      <td>2024-10-01 00:00:00</td>\n",
       "      <td>31.146</td>\n",
       "      <td>31.244</td>\n",
       "      <td>31.143</td>\n",
       "      <td>31.209</td>\n",
       "      <td>1740</td>\n",
       "      <td>31</td>\n",
       "      <td>0</td>\n",
       "    </tr>\n",
       "    <tr>\n",
       "      <th>1</th>\n",
       "      <td>2024-10-01 00:30:00</td>\n",
       "      <td>31.209</td>\n",
       "      <td>31.270</td>\n",
       "      <td>31.176</td>\n",
       "      <td>31.263</td>\n",
       "      <td>1740</td>\n",
       "      <td>30</td>\n",
       "      <td>0</td>\n",
       "    </tr>\n",
       "    <tr>\n",
       "      <th>2</th>\n",
       "      <td>2024-10-01 01:00:00</td>\n",
       "      <td>31.264</td>\n",
       "      <td>31.273</td>\n",
       "      <td>31.116</td>\n",
       "      <td>31.129</td>\n",
       "      <td>1526</td>\n",
       "      <td>30</td>\n",
       "      <td>0</td>\n",
       "    </tr>\n",
       "    <tr>\n",
       "      <th>3</th>\n",
       "      <td>2024-10-01 01:30:00</td>\n",
       "      <td>31.129</td>\n",
       "      <td>31.183</td>\n",
       "      <td>31.096</td>\n",
       "      <td>31.127</td>\n",
       "      <td>999</td>\n",
       "      <td>31</td>\n",
       "      <td>0</td>\n",
       "    </tr>\n",
       "    <tr>\n",
       "      <th>4</th>\n",
       "      <td>2024-10-01 02:00:00</td>\n",
       "      <td>31.127</td>\n",
       "      <td>31.144</td>\n",
       "      <td>30.866</td>\n",
       "      <td>30.945</td>\n",
       "      <td>3360</td>\n",
       "      <td>36</td>\n",
       "      <td>0</td>\n",
       "    </tr>\n",
       "    <tr>\n",
       "      <th>...</th>\n",
       "      <td>...</td>\n",
       "      <td>...</td>\n",
       "      <td>...</td>\n",
       "      <td>...</td>\n",
       "      <td>...</td>\n",
       "      <td>...</td>\n",
       "      <td>...</td>\n",
       "      <td>...</td>\n",
       "    </tr>\n",
       "    <tr>\n",
       "      <th>962</th>\n",
       "      <td>2024-10-29 22:00:00</td>\n",
       "      <td>34.252</td>\n",
       "      <td>34.529</td>\n",
       "      <td>34.230</td>\n",
       "      <td>34.436</td>\n",
       "      <td>5602</td>\n",
       "      <td>30</td>\n",
       "      <td>0</td>\n",
       "    </tr>\n",
       "    <tr>\n",
       "      <th>963</th>\n",
       "      <td>2024-10-29 22:30:00</td>\n",
       "      <td>34.439</td>\n",
       "      <td>34.500</td>\n",
       "      <td>34.317</td>\n",
       "      <td>34.410</td>\n",
       "      <td>4479</td>\n",
       "      <td>36</td>\n",
       "      <td>0</td>\n",
       "    </tr>\n",
       "    <tr>\n",
       "      <th>964</th>\n",
       "      <td>2024-10-29 23:00:00</td>\n",
       "      <td>34.412</td>\n",
       "      <td>34.452</td>\n",
       "      <td>34.050</td>\n",
       "      <td>34.070</td>\n",
       "      <td>4255</td>\n",
       "      <td>36</td>\n",
       "      <td>0</td>\n",
       "    </tr>\n",
       "    <tr>\n",
       "      <th>965</th>\n",
       "      <td>2024-10-29 23:30:00</td>\n",
       "      <td>34.070</td>\n",
       "      <td>34.272</td>\n",
       "      <td>34.054</td>\n",
       "      <td>34.227</td>\n",
       "      <td>3569</td>\n",
       "      <td>30</td>\n",
       "      <td>0</td>\n",
       "    </tr>\n",
       "    <tr>\n",
       "      <th>966</th>\n",
       "      <td>2024-10-30 00:00:00</td>\n",
       "      <td>34.228</td>\n",
       "      <td>34.326</td>\n",
       "      <td>34.204</td>\n",
       "      <td>34.268</td>\n",
       "      <td>2678</td>\n",
       "      <td>30</td>\n",
       "      <td>0</td>\n",
       "    </tr>\n",
       "  </tbody>\n",
       "</table>\n",
       "<p>967 rows × 8 columns</p>\n",
       "</div>"
      ],
      "text/plain": [
       "                   time    open    high     low   close  tick_volume  spread  \\\n",
       "0   2024-10-01 00:00:00  31.146  31.244  31.143  31.209         1740      31   \n",
       "1   2024-10-01 00:30:00  31.209  31.270  31.176  31.263         1740      30   \n",
       "2   2024-10-01 01:00:00  31.264  31.273  31.116  31.129         1526      30   \n",
       "3   2024-10-01 01:30:00  31.129  31.183  31.096  31.127          999      31   \n",
       "4   2024-10-01 02:00:00  31.127  31.144  30.866  30.945         3360      36   \n",
       "..                  ...     ...     ...     ...     ...          ...     ...   \n",
       "962 2024-10-29 22:00:00  34.252  34.529  34.230  34.436         5602      30   \n",
       "963 2024-10-29 22:30:00  34.439  34.500  34.317  34.410         4479      36   \n",
       "964 2024-10-29 23:00:00  34.412  34.452  34.050  34.070         4255      36   \n",
       "965 2024-10-29 23:30:00  34.070  34.272  34.054  34.227         3569      30   \n",
       "966 2024-10-30 00:00:00  34.228  34.326  34.204  34.268         2678      30   \n",
       "\n",
       "     real_volume  \n",
       "0              0  \n",
       "1              0  \n",
       "2              0  \n",
       "3              0  \n",
       "4              0  \n",
       "..           ...  \n",
       "962            0  \n",
       "963            0  \n",
       "964            0  \n",
       "965            0  \n",
       "966            0  \n",
       "\n",
       "[967 rows x 8 columns]"
      ]
     },
     "execution_count": 7,
     "metadata": {},
     "output_type": "execute_result"
    }
   ],
   "source": [
    "backtesting._get_historical_data(symbol=symbol_list[1], timeframe=timeframe, start_date=start_time, end_date=end_time)"
   ]
  },
  {
   "cell_type": "code",
   "execution_count": 6,
   "metadata": {},
   "outputs": [
    {
     "ename": "AttributeError",
     "evalue": "'test_MACD_SAR_EMA200' object has no attribute '_load_model'",
     "output_type": "error",
     "traceback": [
      "\u001b[1;31m---------------------------------------------------------------------------\u001b[0m",
      "\u001b[1;31mAttributeError\u001b[0m                            Traceback (most recent call last)",
      "Cell \u001b[1;32mIn[6], line 1\u001b[0m\n\u001b[1;32m----> 1\u001b[0m \u001b[43mbacktesting\u001b[49m\u001b[38;5;241;43m.\u001b[39;49m\u001b[43mrun\u001b[49m\u001b[43m(\u001b[49m\u001b[43msymbol\u001b[49m\u001b[38;5;241;43m=\u001b[39;49m\u001b[43msymbol_list\u001b[49m\u001b[43m[\u001b[49m\u001b[38;5;241;43m1\u001b[39;49m\u001b[43m]\u001b[49m\u001b[43m,\u001b[49m\u001b[43m \u001b[49m\u001b[43mtimeframe\u001b[49m\u001b[38;5;241;43m=\u001b[39;49m\u001b[43mtimeframe\u001b[49m\u001b[43m,\u001b[49m\u001b[43m \u001b[49m\u001b[43mstart_date\u001b[49m\u001b[38;5;241;43m=\u001b[39;49m\u001b[43mstart_time\u001b[49m\u001b[43m,\u001b[49m\u001b[43m \u001b[49m\u001b[43mend_date\u001b[49m\u001b[38;5;241;43m=\u001b[39;49m\u001b[43mend_time\u001b[49m\u001b[43m)\u001b[49m\n",
      "File \u001b[1;32mc:\\MT5\\MQL5\\Scripts\\src\\backtesting.py:30\u001b[0m, in \u001b[0;36mBackTesting.run\u001b[1;34m(self, symbol, timeframe, start_date, end_date)\u001b[0m\n\u001b[0;32m     28\u001b[0m \u001b[38;5;28;01mdef\u001b[39;00m\u001b[38;5;250m \u001b[39m\u001b[38;5;21mrun\u001b[39m(\u001b[38;5;28mself\u001b[39m, symbol, timeframe, start_date, end_date):\n\u001b[0;32m     29\u001b[0m     data \u001b[38;5;241m=\u001b[39m \u001b[38;5;28mself\u001b[39m\u001b[38;5;241m.\u001b[39m_get_historical_data(symbol, timeframe, start_date, end_date)\n\u001b[1;32m---> 30\u001b[0m     model \u001b[38;5;241m=\u001b[39m \u001b[38;5;28;43mself\u001b[39;49m\u001b[38;5;241;43m.\u001b[39;49m\u001b[43m_load_model\u001b[49m(symbol\u001b[38;5;241m=\u001b[39msymbol)\n\u001b[0;32m     31\u001b[0m     \u001b[38;5;66;03m# 如果data和model都不為空\u001b[39;00m\n\u001b[0;32m     32\u001b[0m     \u001b[38;5;28;01mif\u001b[39;00m data \u001b[38;5;129;01mis\u001b[39;00m \u001b[38;5;129;01mnot\u001b[39;00m \u001b[38;5;28;01mNone\u001b[39;00m \u001b[38;5;129;01mand\u001b[39;00m model \u001b[38;5;129;01mis\u001b[39;00m \u001b[38;5;129;01mnot\u001b[39;00m \u001b[38;5;28;01mNone\u001b[39;00m:\n",
      "\u001b[1;31mAttributeError\u001b[0m: 'test_MACD_SAR_EMA200' object has no attribute '_load_model'"
     ]
    }
   ],
   "source": [
    "backtesting.run(symbol=symbol_list[1], timeframe=timeframe, start_date=start_time, end_date=end_time)"
   ]
  }
 ],
 "metadata": {
  "kernelspec": {
   "display_name": "env",
   "language": "python",
   "name": "python3"
  },
  "language_info": {
   "codemirror_mode": {
    "name": "ipython",
    "version": 3
   },
   "file_extension": ".py",
   "mimetype": "text/x-python",
   "name": "python",
   "nbconvert_exporter": "python",
   "pygments_lexer": "ipython3",
   "version": "3.11.3"
  }
 },
 "nbformat": 4,
 "nbformat_minor": 2
}
